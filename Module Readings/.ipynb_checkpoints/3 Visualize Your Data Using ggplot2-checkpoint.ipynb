{
 "cells": [
  {
   "cell_type": "raw",
   "metadata": {},
   "source": [
    "15.3.1 Introduction to ggplot2\n",
    "\n",
    "\n",
    "In this section, we'll learn about the ggplot library components and how to implement our basic plots, such as bar, line, and scatter plots. Once we have mastered the basics of plotting in ggplot2, we'll learn how to plot more advanced visualizations such as boxplots and heatmaps.\n",
    "\n",
    "All figures in ggplot2 are created using the same three components:\n",
    "\n",
    "1. ggplot function—tells ggplot2 what variables to use\n",
    "\n",
    "2. geom function—tells ggplot2 what plots to generate\n",
    "\n",
    "3. formatting or theme functions—tells ggplot2 how to customize the plot"
   ]
  },
  {
   "cell_type": "raw",
   "metadata": {},
   "source": [
    "Before we start to build our basic figures, we need to declare our input data and variables using the ggplot() function. Type the following code into the R console to look at the ggplot()documentation in the Help pane:\n",
    "\n",
    "> ?ggplot()"
   ]
  },
  {
   "cell_type": "raw",
   "metadata": {},
   "source": [
    "The ggplot() function only requires two arguments to declare the input data:\n",
    "\n",
    "data - is our input data frame.\n",
    "\n",
    "mapping -  uses the aes() aesthetic function to tell ggplot() what variables are assigned to the x (independent) and y (dependent) variables.\n",
    "\n"
   ]
  },
  {
   "cell_type": "raw",
   "metadata": {},
   "source": [
    "There are a number of optional aes() arguments to assign such as color, fill, shape, and size to customize the plots. We'll cover these optional assignments in this module.\n",
    "\n",
    "The return value of the ggplot() function is our ggplot object, which is used as the base to build our visualizations. Once we have established a base ggplot object, we can add any number of plotting and formatting functions using an addition (+) operator."
   ]
  },
  {
   "cell_type": "raw",
   "metadata": {},
   "source": [
    "15.3.2 Build a Bar Plot in ggplot2\n",
    "\n",
    "\n",
    "Now that we are familiar with setting up the ggplot()function, let's build our first plot using the mpg (miles per gallon) dataset. First, we'll take a moment to familiarize ourselves with the mpg dataset. In the R console, type the following statement:\n",
    "\n",
    "> head(mpg)\n",
    "\n",
    "The mpg dataset contains fuel economy data from the EPA for vehicles manufactured between 1999 and 2008. The mpg dataset is built into R and is used throughout R documentation due to its availability, diversity of variables, and overall cleanliness of data. For our purposes, we'll use the mpg data to demonstrate how to implement each of our ggplot visualizations."
   ]
  },
  {
   "cell_type": "raw",
   "metadata": {},
   "source": [
    "Which type of plot is primarily used to visualize categorical data, bar plots, or line plots?\n",
    "\n",
    "Bar plots are used to visualize categorical frequency data or to compare a numerical variable across different categories."
   ]
  },
  {
   "cell_type": "raw",
   "metadata": {},
   "source": [
    "The first plots we'll generate using ggplot2 will be bar plots. Bar plots are used to visualize categorical data. They can be used to represent the frequency of each categorical value in a list of categorical data. For example, if we want to create a bar plot that represents the distribution of vehicle classes from the mpg dataset, we would use the following statements in R:\n",
    "\n",
    "> plt <- ggplot(mpg,aes(x=class)) #import dataset into ggplot2\n",
    "> plt + geom_bar() #plot a bar plot\n",
    "\n",
    "When you generate a plot in RStudio, the multi-tool pane will switch over to the Plot pane.\n",
    "\n",
    "In this example, we're only trying to visualize univariate (single variable) data. Therefore, we only need to assign our x argument within the aes() function. After creating our ggplot object, we then generate a bar plot using geom_bar()."
   ]
  },
  {
   "cell_type": "raw",
   "metadata": {},
   "source": [
    "Type the following code into the R console to look at the geom_bar() documentation in the Help pane:\n",
    "\n",
    "> ?geom_bar()\n",
    "\n",
    "Unlike most of our previous R functions that we have explored, the geom functions from ggplot2 are very large. However, in most cases, we can leave all of the arguments alone and use the geom () function by itself."
   ]
  },
  {
   "cell_type": "raw",
   "metadata": {},
   "source": [
    "HOW MANY VEHICLES FROM EACH MANUFACTURER IN MPG DATA SET?\n",
    "\n",
    "Another use for bar plots is to compare and contrast categorical results. For example, if we want to compare the number of vehicles from each manufacturer in the dataset, we can use dplyr's summarize() function to summarize the data, and ggplot2's geom_col() to visualize the results:\n",
    "\n",
    "> mpg_summary <- mpg %>% group_by(manufacturer) %>% summarize(Vehicle_Count=n(), .groups = 'keep') #create summary table\n",
    "> plt <- ggplot(mpg_summary,aes(x=manufacturer,y=Vehicle_Count)) #import dataset into ggplot2\n",
    "> plt + geom_col() #plot a bar plot"
   ]
  },
  {
   "cell_type": "raw",
   "metadata": {},
   "source": [
    "As we practiced previously, creating a summary table for the manufacturer vehicles was done using dplyr's group_by() and summarize() functions. Our new summary table was then used as the input data for our ggplot() function.\n",
    "\n",
    "In our first example, we only needed to assign one variable to our list of classes. In contrast, our second example required two variables—one for our categorical factors (assigned to x), and another for our calculated results (assigned to y). Once we generated our ggplot object, we then used an alternative method for creating a bar plot, geom_col().\n",
    "\n",
    "Functionally, both geom_bar() and geom_col()create bar plots; however, the two methods assume different inputs. geom_bar() expects one variable and generates frequency data, and geom_col()expects two variables where we provide the size of each category's bar."
   ]
  },
  {
   "cell_type": "raw",
   "metadata": {},
   "source": [
    "Many of ggplot2 visualizations have alternative methods that accommodate different use cases. Feel free to look at the ggplot2 documentation (Links to an external site.) if you have a specific use case in mind.\n",
    "\n",
    "In its current state, our bar plot could be sufficient for personal use when drawing quick conclusions about the data. For instance, we can see from our bar plot that Dodge had the highest number of vehicles in the dataset and Lincoln had the fewest. However, our current bar plot would not be appropriate to use for an analytical report or for publishing. The two biggest issues with the current plot are:\n",
    "\n",
    "Our axis titles are not consistent and could be better formatted.\n",
    "Our x-axis labels are overlapping and run off the page.\n",
    "We'll fix this by adding formatting functions."
   ]
  },
  {
   "cell_type": "raw",
   "metadata": {},
   "source": [
    "15.3.3 Add Formatting Functions\n",
    "\n",
    "To address the issues with the plot, we'll need to add formatting functions to our plotting statement. To change the titles of our x-axis and y-axis, we can use the xlab()and ylab()functions, respectively:\n",
    "\n",
    "> plt + geom_col() + xlab(\"Manufacturing Company\") + ylab(\"Number of Vehicles in Dataset\") #plot bar plot with labels\n"
   ]
  },
  {
   "cell_type": "raw",
   "metadata": {},
   "source": [
    "For our figure, rotate the x-axis labels 45 degrees so they no longer overlap. Our new plotting statement would be as follows, using a \"+\" sign at the end of the first line to indicate to the interpreter that the code continues onto the next line (note that your CLI prompt character will change from \">\" to \"+\" after the first line to indicate that it expects additional input):\n",
    "\n",
    "> plt + geom_col() + xlab(\"Manufacturing Company\") + ylab(\"Number of Vehicles in Dataset\") + #plot a boxplot with labels\n",
    ">theme(axis.text.x=element_text(angle=45,hjust=1)) #rotate the x-axis label 45 degrees"
   ]
  },
  {
   "cell_type": "raw",
   "metadata": {},
   "source": [
    "(Unfortunately, rotating and adjusting the axis labels in ggplot2 is not as straightforward as changing axis titles. Due to the amount of customizability in ggplot2, making small adjustments such as rotating text requires very specific values to be changed in nested functions. Thankfully, there is plenty of external documentation and Stack Overflow support that addresses these exact use cases, so finding help on how to tweak your ggplot2 visualizations requires only a basic Google search.)\n",
    "\n",
    "In this case, we set the angle argument of our element_text() function to 45 degrees and our hjust argument to 1. The hjust argument tells ggplot that our rotated labels should be aligned horizontally to our tick marks.\n",
    "\n",
    "Similarly, if we want to adjust our y-axis labels, we would do so by using the axis.text.y argument of the theme() function. Now that we have adjusted our axis labels and titles, our figure is far easier to read and ready for print. Now it's time to generate our line plots!"
   ]
  },
  {
   "cell_type": "raw",
   "metadata": {},
   "source": [
    "15.3.4 Build a Line Plot in ggplot2\n",
    "\n",
    "Line plots are used to visualize the relationship between a categorical variable and a continuous numerical variable.\n",
    "\n",
    "When creating the ggplot object for our line data, we need to set the categorical variable to the x value and our continuous variable to the y value within our aes() function. \n",
    "\n",
    "For example, if we want to compare the differences in average highway fuel economy (hwy) of Toyota vehicles as a function of the different cylinder sizes (cyl), our R code would look like the following:\n",
    "\n",
    "> mpg_summary <- subset(mpg,manufacturer==\"toyota\") %>% group_by(cyl) %>% summarize(Mean_Hwy=mean(hwy), .groups = 'keep') #create summary table\n",
    "> plt <- ggplot(mpg_summary,aes(x=cyl,y=Mean_Hwy)) #import dataset into ggplot2\n"
   ]
  },
  {
   "cell_type": "raw",
   "metadata": {},
   "source": [
    "Once we set up our ggplot object, we can generate our line plot using geom_line():\n",
    "\n",
    "> plt + geom_line()\n",
    "\n",
    "In this example, we can observe the general trend in the data: as the number of cylinders in Toyota vehicles increases, the average highway fuel economy decreases.\n",
    "\n"
   ]
  },
  {
   "cell_type": "raw",
   "metadata": {},
   "source": [
    "However, the default x-axis misrepresents the data because there are no five- and seven-cylinder vehicles. In addition, the default y-axis tick marks are too general and do not allow the reader to determine average fuel economy values.\n",
    "\n",
    "To adjust the x-axis and y-axis tick values, we'll use the scale_x_discrete() and scale_y_continuous() functions:\n",
    "\n",
    "> plt + geom_line() + scale_x_discrete(limits=c(4,6,8)) + scale_y_continuous(breaks = c(15:30)) #add line plot with labels\n",
    "\n",
    "In general, R is much more aggressive with warning messages than Python. The warning message you might see here is benign.\n",
    "\n",
    "The scale_x_discrete() function tells ggplot to use explicit values for the x-axis ticks. In other words, the scale_x_discrete() function will generate x-axis ticks for each value in a list. \n",
    "\n",
    "In contrast, the scale_y_continuous()function tells ggplot to rescale the y-axis based on a defined range, here from 15 through 30 using breaks = c(15:30)."
   ]
  },
  {
   "cell_type": "raw",
   "metadata": {},
   "source": [
    "Implementing scatter plots in ggplot2 is just as easy as line plots. To set up our ggplot object for our scatter plot, we'll need to set the independent variable as our x value and the dependent variable as our y value within our aes() function. \n",
    "\n",
    "For example, if we want to create a scatter plot to visualize the relationship between the size of each car engine (displ) versus their city fuel efficiency (cty), we would create the following ggplotobject:\n",
    "\n",
    "> plt <- ggplot(mpg,aes(x=displ,y=cty)) #import dataset into ggplot2\n",
    "\n",
    "Once we successfully create our ggplot object, we can generate our scatter plot using the geom_point() function:\n",
    "\n",
    "> plt + geom_point() + xlab(\"Engine Size (L)\") + ylab(\"City Fuel-Efficiency (MPG)\") #add scatter plot with labels\n",
    "\n",
    "Although our default scatter plot visualizes the relationship between engine size and city fuel efficiency effectively, we can use scatter plots to visualize more than just two variables."
   ]
  },
  {
   "cell_type": "raw",
   "metadata": {},
   "source": [
    "In data science, we're often interested in the relationship between two quantitative variables in regards to other categorical variables (often referred to as grouping factors). By customizing our data points with aesthetic changes, we can add additional context to our scatter plots to help convey more information within a single visualization. Let's see this in action.\n",
    "\n",
    "There are a number of customizing aesthetics we can add to our aes() function to change our scatter plot data points, such as:\n",
    "\n",
    "alpha changes the transparency of each data point\n",
    "color changes the color of each data point\n",
    "shape changes the shape of each data point\n",
    "size changes the size of each data point\n"
   ]
  },
  {
   "cell_type": "raw",
   "metadata": {},
   "source": [
    "If we apply these custom aesthetics to our previous example, we can use scatter plots to visualize the relationship between city fuel efficiency and engine size, while grouping by additional variables of interest:\n",
    "\n",
    "> plt <- ggplot(mpg,aes(x=displ,y=cty,color=class)) #import dataset into ggplot2\n",
    "> plt + geom_point() + labs(x=\"Engine Size (L)\", y=\"City Fuel-Efficiency (MPG)\", color=\"Vehicle Class\") #add scatter plot with labels"
   ]
  },
  {
   "cell_type": "raw",
   "metadata": {},
   "source": [
    "An alternative to xlabs() andylabs() is thelabs() function, which lets you customize your axis labels as well as any grouping variable labels.\n",
    "\n",
    "By coloring each data point by its vehicle class, we can see that vehicle class data points are clustering together in regard to our engine size and city fuel efficiency. We're not limited to only adding one aesthetic either:\n",
    "\n",
    "> plt <- ggplot(mpg,aes(x=displ,y=cty,color=class,shape=drv)) #import dataset into ggplot2\n",
    "> plt + geom_point() + labs(x=\"Engine Size (L)\", y=\"City Fuel-Efficiency (MPG)\", color=\"Vehicle Class\",shape=\"Type of Drive\") #add scatter plot with multiple aesthetics"
   ]
  },
  {
   "cell_type": "raw",
   "metadata": {},
   "source": [
    "Depending on the size of the plot, the number of data points, and the density of the data, some aesthetics work better than others. It's good practice to try building multiple versions of the same visualization with different aesthetics to determine which aesthetic most effectively conveys the results."
   ]
  },
  {
   "cell_type": "raw",
   "metadata": {},
   "source": [
    "SKILL DRILL\n",
    "\n",
    "Using the same dataset, create an additional visualization that uses City Fuel-Efficiency (MPG) to determine the size of the data point.\n",
    "\n",
    "Hint: Use the geom_point documentation (Links to an external site.) for assistance.\n",
    "\n",
    "p + geom_point(aes(size = qsec))\n",
    "\n",
    "plt + geom_point(aes(size = hwy)) + labs(x=\"Engine Size (L)\", y=\"City Fuel-Efficiency (MPG)\", color=\"Vehicle Class\",shape=\"Type of Drive\") #add scatter plot with multiple aesthetics"
   ]
  },
  {
   "cell_type": "raw",
   "metadata": {},
   "source": [
    "Although there is no technical limit to the number of variables we can add to a ggplot figure, there are diminishing returns. A good rule of thumb is to limit the number of variables displayed in a single figure to a maximum of 3 or 4.\n",
    "\n",
    "IMPORTANT\n",
    "Most of the customizations we've covered thus far can be used on any ggplot visualization, regardless of what type of plot we're using. Try to experiment adding custom aesthetics, labels, and axes to every plot. If you're ever uncertain how to customize, refer to the ggplot2 documentation (Links to an external site.)."
   ]
  },
  {
   "cell_type": "raw",
   "metadata": {},
   "source": [
    "15.3.5 Create Advanced Boxplots in ggplot2\n",
    "\n",
    "Beyond the basic bar, line, and scatter plots, there are a number of more advanced ggplot2 visualizations that can be used to describe specific features of a dataset.\n",
    "\n",
    "For instance, when performing statistical analysis, we may want to visualize summary statistics using boxplots, or unpack the relationship across multiple variables using a heatmap. Fortunately, ggplot2 has functions such as geom_boxplot() and geom_tile()that generate more advanced visualizations with ease."
   ]
  },
  {
   "cell_type": "raw",
   "metadata": {},
   "source": [
    "The boxplot is also known as a box-and-whisker-plot, named for the lines extending from the boxes. It's used to visualize a variety of summary statistics for a continuous numerical vector. Boxplots are very common in data science due to the density of information contained within a single visualization, as well as the boxplot's ability to compare measurements across grouping factors."
   ]
  },
  {
   "cell_type": "raw",
   "metadata": {},
   "source": [
    "To generate a boxplot in ggplot2, we must supply a vector of numeric values. For example, if we want to generate a boxplot to visualize the highway fuel efficiency of our mpg dataset, our R code would look as follows:\n",
    "\n",
    "> plt <- ggplot(mpg,aes(y=hwy)) #import dataset into ggplot2\n",
    "> plt + geom_boxplot() #add boxplot\n",
    "\n",
    "Unlike the previous ggplot objects, geom_boxplot()expects a numeric vector assigned to the y-value. This is due to the ggplot accounting for multiple boxplots in a single figure. If we supply our categorical grouping factor to x, we can create a boxplot that compares measurements from a variety of groups."
   ]
  },
  {
   "cell_type": "raw",
   "metadata": {},
   "source": [
    "Expanding on our previous example, if we want to create a set of boxplots that compares highway fuel efficiency for each car manufacturer, our new R code would look as follows:\n",
    "\n",
    "> plt <- ggplot(mpg,aes(x=manufacturer,y=hwy)) #import dataset into ggplot2\n",
    "> plt + geom_boxplot() + theme(axis.text.x=element_text(angle=45,hjust=1)) #add boxplot and rotate x-axis labels 45 degrees\n",
    "\n",
    "These grouped boxplots are fantastic to use in technical reports and presentations due to how easy they are to read and interpret as well as how much information can be conveyed."
   ]
  },
  {
   "cell_type": "raw",
   "metadata": {},
   "source": [
    "SKILL DRILL \n",
    "\n",
    "Customize the boxplot to be more aesthetic by adding some color and using dotted instead of solid lines.\n",
    "\n"
   ]
  },
  {
   "cell_type": "raw",
   "metadata": {},
   "source": [
    "15.3.6 Create Heatmap Plots\n",
    "\n",
    "use a heatmap to visualize the average highway fuel efficiency across the type of vehicle class from 1999 to 2008. Heatmaps are a useful way to see intensity across time—and this type of chart could go over really well in a high-level presentation, as it's a good way to see a lot of information at once. Time to get coding!\n"
   ]
  },
  {
   "cell_type": "raw",
   "metadata": {},
   "source": [
    "Heatmap plots help visualize the relationship between one continuous numerical variable and two other variables (categorical or numerical). Heatmaps display numerical values as colors on a two-dimensional grid so that value clusters and trends are readily identifiable. For example, if we want to visualize the average highway fuel efficiency across the type of vehicle class from 1999 to 2008, our R code would look as follows:\n",
    "\n",
    "> mpg_summary <- mpg %>% group_by(class,year) %>% summarize(Mean_Hwy=mean(hwy), .groups = 'keep') #create summary table\n",
    "\n",
    "> plt <- ggplot(mpg_summary, aes(x=class,y=factor(year),fill=Mean_Hwy))\n",
    "\n",
    "> plt + geom_tile() + labs(x=\"Vehicle Class\",y=\"Vehicle Year\",fill=\"Mean Highway (MPG)\") #create heatmap with labels"
   ]
  },
  {
   "cell_type": "raw",
   "metadata": {},
   "source": [
    "Our heatmap shows that the majority of the vehicle classes experienced an average improvement in highway fuel efficiency from 1999 to 2008. Unlike our previous ggplot visualizations, heatmaps are used to look at large trends in a dataset. Therefore, we can use heatmaps to visualize variables with a large number of values/categories. For example, if we want to look at the difference in average highway fuel efficiency across each vehicle model from 1999 to 2008, our R code would look as follows:\n",
    "\n",
    "> mpg_summary <- mpg %>% group_by(model,year) %>% summarize(Mean_Hwy=mean(hwy), .groups = 'keep') #create summary table\n",
    "> plt <- ggplot(mpg_summary, aes(x=model,y=factor(year),fill=Mean_Hwy)) #import dataset into ggplot2\n",
    "> plt + geom_tile() + labs(x=\"Model\",y=\"Vehicle Year\",fill=\"Mean Highway (MPG)\") + theme(axis.text.x = element_text(angle=90,hjust=1,vjust=.5)) #rotate x-axis labels 90 degrees"
   ]
  },
  {
   "cell_type": "raw",
   "metadata": {},
   "source": [
    "When using variables with a number of different values (categories, levels, etc.), you may want to adjust the angle of your text from 45 to 90 degrees. If you angle your text, you may need to also adjust your hjust and vjust arguments to ensure your labels line up with your tick marks.\n",
    "\n",
    "Although boxplots and heatmaps are two of the more common advanced visualizations used in data science, there are a number of more specific ggplot2 visualization functions that can be used on an individual basis.\n",
    "\n",
    "The ggplot2 documentation sufficiently describes how to implement each function, but does not provide logic or guidance on how to select a visualization for your data. \n",
    "\n",
    "Thankfully, there are many cheat sheets available that provide guidance on what visualizations to use given the dimensions and data types you wish to use. One of the most popular is the RStudio Data Visualization ggplot2 Cheat Sheet which is used to help data scientists determine what functions to use to generate an appropriate visualization for their analysis."
   ]
  },
  {
   "cell_type": "raw",
   "metadata": {},
   "source": [
    "ggplot2 arguments and elements in the correct order to create a proper R statement that rotates the x-axis labels 90 degrees. \n",
    "\n",
    "theme(axis.tex.x=element_text(angle=90, hjust=1))"
   ]
  },
  {
   "cell_type": "raw",
   "metadata": {},
   "source": [
    "15.3.7 Add Layers to Plots\n",
    "\n",
    "Often when we're building visualizations for data analysis, we'll want to produce layered plots or combine very similar plots into a single visualization (also referred to as faceting, which we'll cover later on).\n",
    "\n",
    "There are two types of plot layers:\n",
    "\n",
    "- Layering additional plots that use the same variables and input data as the original plot\n",
    "- Layering of additional plots that use different but complementary data to the original plot"
   ]
  },
  {
   "cell_type": "raw",
   "metadata": {},
   "source": [
    "We can add additional plots to our visualization by adding additional geom functions to our plotting statement. Layering plots that share input variables can be beneficial when you want to add context to your initial visualization.\n",
    "\n",
    "For example, to recreate our previous boxplot example comparing the highway fuel efficiency across manufacturers, add our data points using the geom_point() function:\n",
    "\n",
    "> plt <- ggplot(mpg,aes(x=manufacturer,y=hwy)) #import dataset into ggplot2\n",
    "> plt + geom_boxplot() + #add boxplot\n",
    "> theme(axis.text.x=element_text(angle=45,hjust=1)) + #rotate x-axis labels 45 degrees\n",
    "> geom_point() #overlay scatter plot on top\n",
    "\n",
    "By layering our data points on top of our boxplot, we can see the general distribution of values within each box as well as the number of data points. This new information can provide the reader better context when comparing two manufacturers with similarly shaped boxplots."
   ]
  },
  {
   "cell_type": "raw",
   "metadata": {},
   "source": [
    "Although layering plots with visualizations using the same input variables is a more common approach, there may be instances when we would want to add additional plotting layers with new and complementary data.\n",
    "\n",
    "For example, what if we want to compare average engine size for each vehicle class? In this case, we would supply our new data and variables directly to our new geom function using the optional mapping and data arguments."
   ]
  },
  {
   "cell_type": "raw",
   "metadata": {},
   "source": [
    "The mapping argument functions exactly the same as our ggplot() function, where our mapping argument uses the aes() function to identify the variables to use. Additionally, the data argument can be used to provide a new input data structure; otherwise, the mapping function will reference the data structure provided in the ggplot object.\n",
    "\n",
    "Our R code would be as follows:\n",
    "\n",
    "> mpg_summary <- mpg %>% group_by(class) %>% summarize(Mean_Engine=mean(displ), .groups = 'keep') #create summary table\n",
    "> plt <- ggplot(mpg_summary,aes(x=class,y=Mean_Engine)) #import dataset into ggplot2\n",
    "> plt + geom_point(size=4) + labs(x=\"Vehicle Class\",y=\"Mean Engine Size\") #add scatter plot"
   ]
  },
  {
   "cell_type": "raw",
   "metadata": {},
   "source": [
    "Although this plot sufficiently visualizes the means, it's critical that we provide context around the standard deviation of the engine size for each vehicle class. If we compute the standard deviations in our dplyr summarize() function, we can layer the upper and lower standard deviation boundaries to our visualization using the geom_errorbar() function:\n",
    "\n",
    "> mpg_summary <- mpg %>% group_by(class) %>% summarize(Mean_Engine=mean(displ),SD_Engine=sd(displ), .groups = 'keep')\n",
    "> plt <- ggplot(mpg_summary,aes(x=class,y=Mean_Engine)) #import dataset into ggplot2\n",
    "> plt + geom_point(size=4) + labs(x=\"Vehicle Class\",y=\"Mean Engine Size\") + #add scatter plot with labels\n",
    "> geom_errorbar(aes(ymin=Mean_Engine-SD_Engine,ymax=Mean_Engine+SD_Engine)) #overlay with error bars\n",
    "\n",
    "Layering plots can be very helpful visualizing wide-format data or summary data when there are multiple variables and metrics used to describe a single subject. As the number of subjects increases, or if the input data is in a long format, layering might not be as effective."
   ]
  },
  {
   "cell_type": "raw",
   "metadata": {},
   "source": [
    "Often when our data is in a long format, we want to avoid visualizing all data within a single plot. Rather, we want to plot all our measurements but keep each level (or category) of our grouping variable separate. This process of separating out plots for each level is known as faceting in ggplot2.\n",
    "\n",
    "Faceting is performed by adding a facet() function to the end of our plotting statement. Consider, if instead of the wide format, our mpg dataset was obtained where city and highway fuel efficiency data was provided in a long format:\n",
    "\n",
    "> mpg_long <- mpg %>% gather(key=\"MPG_Type\",value=\"Rating\",c(cty,hwy)) #convert to long format\n",
    "> head(mpg_long)"
   ]
  },
  {
   "cell_type": "raw",
   "metadata": {},
   "source": [
    "If we want to visualize the different vehicle fuel efficiency ratings by manufacturer, our R code would be as follows:\n",
    "\n",
    "> plt <- ggplot(mpg_long,aes(x=manufacturer,y=Rating,color=MPG_Type)) #import dataset into ggplot2\n",
    "> plt + geom_boxplot() + theme(axis.text.x=element_text(angle=45,hjust=1)) #add boxplot with labels rotated 45 degrees\n",
    "\n",
    "The produced boxplot is optimal for comparing the city versus highway fuel efficiency for each manufacturer, but it is more difficult to compare all of the city fuel efficiency across manufacturers. \n",
    "\n",
    "One solution would be to facet the different types of fuel efficiency within the visualization using the facet_wrap() function."
   ]
  },
  {
   "cell_type": "raw",
   "metadata": {},
   "source": [
    "Type the following code into the R console to look at the facet_wrap() documentation in the Help pane:\n",
    "\n",
    "> ?facet_wrap()\n",
    "\n",
    "Similar to any of ggplot2's geom functions, the facet_wrap() function has many optional variables to tweak the direction and type of faceting. \n",
    "\n",
    "However, the most basic use cases for faceting only require us to provide the annotation for the facets argument. The facets argument expects a list of grouping variables to facet by using the vars() function. \n",
    "\n",
    "Therefore, to facet our previous example by the fuel-efficiency type, our R code could be as follows:\n",
    "\n",
    "> plt <- ggplot(mpg_long,aes(x=manufacturer,y=Rating,color=MPG_Type)) #import dataset into ggplot2\n",
    "> plt + geom_boxplot() + facet_wrap(vars(MPG_Type)) + #create multiple boxplots, one for each MPG type\n",
    "> theme(axis.text.x=element_text(angle=45,hjust=1),legend.position = \"none\") + xlab(\"Manufacturer\") #rotate x-axis labels\n",
    "\n",
    "\n",
    "By faceting our boxplots by fuel-efficiency type, it's easier to make comparisons across manufacturers. In this example, we faceted two levels/groups, but more complicated long-format datasets may contain measurements for multiple levels. \n",
    "\n",
    "Using faceting can help make data exploration of these complex datasets easier or can help isolate factors of interest for our audience."
   ]
  },
  {
   "cell_type": "raw",
   "metadata": {},
   "source": []
  }
 ],
 "metadata": {
  "kernelspec": {
   "display_name": "PythonData",
   "language": "python",
   "name": "pythondata"
  },
  "language_info": {
   "codemirror_mode": {
    "name": "ipython",
    "version": 3
   },
   "file_extension": ".py",
   "mimetype": "text/x-python",
   "name": "python",
   "nbconvert_exporter": "python",
   "pygments_lexer": "ipython3",
   "version": "3.7.7"
  }
 },
 "nbformat": 4,
 "nbformat_minor": 4
}
