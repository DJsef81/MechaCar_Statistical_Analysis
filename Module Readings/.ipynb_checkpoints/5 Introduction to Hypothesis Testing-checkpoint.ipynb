{
 "cells": [
  {
   "cell_type": "raw",
   "metadata": {},
   "source": [
    "15.5.1 Practice Hypothesis Testing\n",
    "\n",
    "One of the largest and most critical concepts in statistics is hypothesis testing.\n",
    "\n",
    "In data science, we use statistical hypothesis testing to determine the probability of an event (or set of observations) under particular assumptions. \n",
    "\n",
    "In other words, we use statistical hypothesis testing to determine which of our hypotheses are most likely to be true. \n",
    "\n",
    "There are two types of statistical hypothesis:\n",
    "\n",
    "1. The null hypothesis is also known as H0 and is generally the hypothesis that can be explained by random chance.\n",
    "\n",
    "2. The alternate hypothesis is also known as Ha and is generally the hypothesis that is influenced by non-random events.\n",
    "\n",
    "By the end of this section, we should be able to generate a set of hypotheses and interpret the outcome of a statistical test. These concepts are universal and will apply to any statistical test, dataset, or analytical result."
   ]
  },
  {
   "cell_type": "raw",
   "metadata": {},
   "source": [
    "The Importance of Hypothesis Testing\n",
    "\n",
    "Although data collection and research are important, the backbone of the scientific method is hypothesis testing. Hypotheses are utilized by the scientific method to help narrow the scope of research and testing as well as provide a clear outcome of our results. \n",
    "\n",
    "Without generating a set of hypotheses, it becomes exponentially more difficult to quantify results and provide measurable outcomes to our analyses. As data analysts, it's our job to match a set of hypotheses to an appropriate statistical test to ensure that results are interpreted correctly.\n",
    "\n"
   ]
  },
  {
   "cell_type": "raw",
   "metadata": {},
   "source": [
    "Hypothesis Testing in Five Steps\n",
    "\n",
    "Regardless of the complexity of the dataset or the proposed question, hypothesis testing uses the same five steps:\n",
    "\n",
    "1. Generate a null hypothesis, its corresponding alternate hypothesis, and the significance level.\n",
    "\n",
    "2. Identify a statistical analysis to assess the truth of the null hypothesis.\n",
    "\n",
    "3. Compute the p-value using statistical analysis.\n",
    "\n",
    "4. Compare p-value to the significance level.\n",
    "\n",
    "5. Reject (or fail to reject) the null hypothesis and generate the conclusion.\n"
   ]
  },
  {
   "cell_type": "raw",
   "metadata": {},
   "source": [
    "Keep in mind that the null and alternate hypotheses are used to explain one of two outcomes from our proposed question, and both are mutually exclusive and exhaustive. In other words, no matter what, one of these statements must be used to explain our analysis results.\n",
    "\n",
    "For example, perhaps we wanted to solve the question: \"Is flipping a specific coin fair and balanced?\" Given this question, our null hypothesis could be that the likelihood of flipping heads is the same as flipping tails. In other words, the likelihood of heads or tails can be totally explained by random chance. Our alternative hypothesis might be that the likelihood of flipping heads is not the same as flipping tails. If we were to represent our hypotheses using mathematical symbols, it would be expressed as:\n",
    "\n",
    "H0 : PH = 0.5\n",
    "\n",
    "Ha : PH ≠ 0.5\n",
    "\n",
    "Where PH represents the probability of flipping heads."
   ]
  },
  {
   "cell_type": "raw",
   "metadata": {},
   "source": [
    "Notice that our null hypothesis represents the scenario that our results can be explained by random chance without any outside influence. In contrast, our alternate hypothesis represents any other scenario that our results could yield.\n",
    "\n",
    "Once we established our null and alternate hypothesis, we would then need to identify a statistical analysis to assess if our null hypothesis is true. In this example, we could test our null hypothesis by flipping our own coin 50 times and then by calculating the probability of flipping heads.\n",
    "\n",
    "Depending on the complexity of the question and null hypothesis, calculating probability might be insufficient, and we might need to rely on more traditional statistical tests. Fret not, we'll cover many of the most popular statistical tests later in this module."
   ]
  },
  {
   "cell_type": "raw",
   "metadata": {},
   "source": [
    "After determining which statistical analysis is most appropriate and analyzing our data, we must quantify our statistical results using probability. In our example, we are calculating probability directly; however, most statistical tests will produce probability in the form of a p-value.\n",
    "\n",
    "The p-value, or probability value, tells us the likelihood that we would see similar results if we tested our data again, if the null hypothesis is true. Therefore, we use the p-value to provide quantitative evidence as to which of our hypotheses are true."
   ]
  },
  {
   "cell_type": "raw",
   "metadata": {},
   "source": [
    "In most cases, a significance level of 0.05 is sufficient, but if our hypotheses are being used for critical decision-making (such as the performance of a drug or the durability of a helmet), we might want to use smaller cutoffs such as 0.01 or 0.001. Regardless of what significance level we select, we want to predetermine our cutoff prior to computing the p-value as to not introduce bias into our results. Refer to the following chart:\n",
    "\n",
    "Importance of Findings\t          Significance Level\t                 Probability of Being Wrong\n",
    "Low\t                                      0.1\t                                 1 in 10\n",
    "\n",
    "Normal\t                                  0.05\t                                 5 in 100\n",
    "\n",
    "High\t                                  0.01\t                                 1 in 100\n",
    "\n",
    "Very high\t                              0.001\t                                 1 in 1,000\n",
    "\n",
    "Extreme\t                                  0.0001\t                             1 in 10,000"
   ]
  },
  {
   "cell_type": "raw",
   "metadata": {},
   "source": [
    "In addition to determining a significance level based on the importance of our findings, we must ensure our hypotheses and statistical tests are either one-tailed or two-tailed. The tails of our hypotheses or statistical tests are referring to the distribution of measurements or observations used in the analysis."
   ]
  },
  {
   "cell_type": "raw",
   "metadata": {},
   "source": [
    "When it comes to hypothesis testing, a one-tailed hypothesis is only describing one side of the distribution. One-tailed hypotheses use descriptions such as \"x is greater than y\" or \"x is less than or equal to y.\" Alternatively, two-tailed hypotheses describe both sides of the distribution and use descriptions such as \"equal to\" or \"not equal to.\""
   ]
  },
  {
   "cell_type": "raw",
   "metadata": {},
   "source": [
    "When it comes to checking our statistical tests, the documentation will tell us if our statistical test is one-tailed or two-tailed. Once we have determined the number of tails considered for both our hypotheses and statistical test, we can determine if we need to adjust our p-value:\n",
    "\n",
    "- If our hypotheses and statistical test are both two-tailed, use the statistical test p-value as is.\n",
    "\n",
    "- If our hypotheses are one-tailed, but our statistical test is two-tailed, divide the statistical test p-value by 2.\n"
   ]
  },
  {
   "cell_type": "raw",
   "metadata": {},
   "source": [
    "Once we have determined the significance level and the calculated p-value, we can complete our statistical analysis. If our calculated p-value is smaller than our significance level, we would state that there is sufficient statistical evidence that our null hypothesis is not true, and therefore we would reject our null hypothesis. \n",
    "\n",
    "Alternatively, if our calculated p-value is larger than our significance level, we would state that we do not have sufficient evidence to reject our null hypothesis, and therefore we fail to reject our null hypothesis."
   ]
  },
  {
   "cell_type": "raw",
   "metadata": {},
   "source": [
    "Outside of statistics, you may see others refer to this process as \"accepting or rejecting\" the null hypothesis. While this is not entirely untrue, many statisticians believe that there is no way of making a definitive choice between either hypothesis without an infinitely large dataset. Therefore, we use p-values and significance levels to determine the probability that our observations were obtained assuming the null hypothesis.\n",
    "\n",
    "After we have determined which hypothesis is most likely to be true, we must conclude our statistical findings by relating our results back to the initial dataset or proposed question."
   ]
  },
  {
   "cell_type": "raw",
   "metadata": {},
   "source": [
    "15.5.2 Assess Error in Hypothesis Testing\n",
    "\n",
    "In an ideal world, we would be able to definitively decide if our null hypothesis or alternative hypothesis was true by collecting all possible measurements or data points. But since this is often impossible, we must approximate truth using a subset of data."
   ]
  },
  {
   "cell_type": "raw",
   "metadata": {},
   "source": [
    "In most cases, our approximations and hypothesis selection will be correct and represent the true real-world results. But due to the variability of data, at some point our hypothesis selection will be incorrect. Our incorrect hypothesis selection can fall into two categories:\n",
    "\n",
    "- Type I error (also known as a false positive error)—an error in which we reject the null hypothesis when it is actually true. In other words, the observations and measurements used in our statistical test should have been attributed to random chance, but we attributed them to something else.\n",
    "\n",
    "\n",
    "-= Type II error (also known as a false negative error)—an error in which we fail to reject the null hypothesis when it is actually false. In other words, our analysis demonstrates that the observations were due to random chance, but they were not. The observations and measurements used in our statistical test failed to reflect an external force or influence to our problem.\n",
    "\n",
    "While selecting the wrong hypothesis is never ideal, depending on our field of research or the importance of our proposed problem, one error type may be more problematic than the other.\n",
    "\n"
   ]
  },
  {
   "cell_type": "raw",
   "metadata": {},
   "source": [
    "You are in charge of testing whether or not there are statistical differences between two manufacturing lots of brake pads. Which type of statistical error would be considered more problematic?\n",
    "\n",
    "- Type II error: If there were statistical differences between lots that were not identified, there is a potential risk of injury or death to the consumer.\n",
    "\n",
    "You must test whether or not the new company logo significantly increases monthly profit. Which type of statistical error would be considered more problematic?\n",
    "\n",
    "- Type I error: If the company changes the logo and profits do not change (or even decrease), this mistake could cost the company a substantial amount of money."
   ]
  },
  {
   "cell_type": "raw",
   "metadata": {},
   "source": [
    "When it comes to limiting our type I and type II errors, there are two basic methods:\n",
    "\n",
    "- A type I error can be limited by making your significance level smaller. A smaller significance level makes it harder to accidentally reject the null hypothesis when the data was truly random. This is also why our significance level (alpha or ɑ) is sometimes referred to as our false positive rate.\n",
    "\n",
    "\n",
    "- A type II error can be limited by increasing the power of the analysis. Although performing a power analysis is outside the scope of the course, power can be increased by adding additional measurements or observations to our analysis."
   ]
  },
  {
   "cell_type": "raw",
   "metadata": {},
   "source": [
    "Put the hypothesis testing steps in the correct order. \n",
    "\n",
    "1. Generate a null hypothesis, it's corresponding alternate hypothesis, and the significance level\n",
    "2. Identify a statistical analysis to assess the truth of the null hypothesis\n",
    "3. Compute the p-value using statistical analysis \n",
    "4. Compare p-value to the significance level\n",
    "5. Reject (or fail to reject) the null hypothesis and generate teh conclusion \n"
   ]
  },
  {
   "cell_type": "raw",
   "metadata": {},
   "source": [
    "Now that we understand what a hypothesis test is, how to generate our hypothesis, and how to use the p-value to provide results and interpretations, we're ready to dive into our first statistical test.\n",
    "\n"
   ]
  }
 ],
 "metadata": {
  "kernelspec": {
   "display_name": "PythonData",
   "language": "python",
   "name": "pythondata"
  },
  "language_info": {
   "codemirror_mode": {
    "name": "ipython",
    "version": 3
   },
   "file_extension": ".py",
   "mimetype": "text/x-python",
   "name": "python",
   "nbconvert_exporter": "python",
   "pygments_lexer": "ipython3",
   "version": "3.7.7"
  }
 },
 "nbformat": 4,
 "nbformat_minor": 4
}
