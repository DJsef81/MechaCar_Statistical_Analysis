{
 "cells": [
  {
   "cell_type": "raw",
   "metadata": {},
   "source": [
    "15.8.1 Category Complexities\n",
    "\n",
    "Now that Jeremy has learned about statistical concepts such as t-test and linear regression, he feels comfortable analyzing numerical datasets. However, Jeremy recognizes that not all data will be numerical, and eventually he will need to analyze data that is completely categorical. Once again, Jeremy must go back and learn another statistical test that will enable him to compare and contrast the frequency of categorical data."
   ]
  },
  {
   "cell_type": "raw",
   "metadata": {},
   "source": [
    "As we learned previously, categorical data is generally any data that is not measured, or qualitative data. Even though categorical data may not require an instrument to measure, it can be just as informative as numerical data.\n",
    "\n",
    "One common form of categorical data is frequency data, where we record how often something was observed within a single variable. \n",
    "\n",
    "For example, in the mpg dataset, if we were to count up the number of vehicles for each vehicle class, the output would be a form of frequency data."
   ]
  },
  {
   "cell_type": "raw",
   "metadata": {},
   "source": [
    "In data science, we'll often compare frequency data across another dichotomous factor such as gender, A/B groups, member/non-member, and so on. In these cases, we may ask ourselves, \"Is there a difference in frequency between our first and second groups?\" To test this question, we can perform a chi-squared test.\n",
    "\n",
    "The chi-squared test is used to compare the distribution of frequencies across two groups and tests the following hypotheses:\n",
    "\n",
    "H0 : There is no difference in frequency distribution between both groups.\n",
    "\n",
    "Ha : There is a difference in frequency distribution between both groups"
   ]
  },
  {
   "cell_type": "raw",
   "metadata": {},
   "source": [
    "Before we can perform our chi-squared analysis, we must ensure that our dataset meets the assumptions of the statistical test:\n",
    "\n",
    "1. Each subject within a group contributes to only one frequency. In other words, the sum of all frequencies equals the total number of subjects in a dataset.\n",
    "\n",
    "2. Each unique value has an equal probability of being observed.\n",
    "\n",
    "3. There is a minimum of five observed instances for every unique value for a 2x2 chi-squared table.\n",
    "\n",
    "4. For a larger chi-squared table, there is at least one observation for every unique value and at least 80% of all unique values have five or more observations.\n",
    "\n",
    "Once we have confirmed our categorical dataset meets all of the assumptions of the chi-square analysis, we can perform our chi-squared test."
   ]
  },
  {
   "cell_type": "raw",
   "metadata": {},
   "source": [
    "In R, we'll compute our chi-squared test using the chisq.test() function. Type the following code into the R console to look at the chisq.test() documentation in the Help pane.\n",
    "\n",
    ">?chisq.test()\n",
    "\n",
    "Depending on the structure of your dataset, you can implement the chisq.test() function in multiple ways using the optional arguments. The most straightforward implementation of chisq.test() function is passing the function to a contingency table. \n",
    "\n",
    "A contingency table is another name for a frequency table produced using R's table() function. R's table() function does all the heavy lifting for us by calculating frequencies across factors.\n"
   ]
  },
  {
   "cell_type": "raw",
   "metadata": {},
   "source": [
    "For example, if we want to test whether there is a statistical difference in the distributions of vehicle class across 1999 and 2008 from our mpg dataset, we would first need to build our contingency table as follows:\n",
    "\n",
    "> table(mpg$class,mpg$year) #generate contingency table\n",
    "\n",
    "             1999 2008\n",
    "  2seater       2    3\n",
    "  compact      25   22\n",
    "  midsize      20   21\n",
    "  minivan       6    5\n",
    "  pickup       16   17\n",
    "  subcompact   19   16\n",
    "  suv          29   33"
   ]
  },
  {
   "cell_type": "raw",
   "metadata": {},
   "source": [
    "Then, pass the contingency table to the chisq.test()function:\n",
    "\n",
    "> tbl <- table(mpg$class,mpg$year) #generate contingency table\n",
    "> chisq.test(tbl) #compare categorical distributions\n",
    "\n",
    "Pearson's Chi-squared test\n",
    "\n",
    "data:  tbl\n",
    "X-squared = 1.0523, df = 6, p-value = 0.9836\n",
    "\n",
    "Warning message:\n",
    "In chisq.test(tbl) : Chi-squared approximation may be incorrect\n",
    "\n",
    "The chi-squared warning message is due to the small sample size. Because the p-value is so large, we are not too concerned that our interpretation may be incorrect.\n",
    "\n",
    "Assuming a significance level of 5%, is there sufficient evidence to reject the null hypothesis of the paired t-test?\n",
    "\n",
    "Fail to reject the null hypothesis\n",
    "\n",
    "The p-value is above the assumed significance level. Therefore, we would state that there is not enough evidence to reject the null hypothesis, and there is no difference in the distribution of vehicle class across 1999 and 2008 from the mpg dataset."
   ]
  },
  {
   "cell_type": "raw",
   "metadata": {},
   "source": [
    "Despite having no quantitative input, the chi-squared test enables data scientists to quantify the distribution of categorical variables. \n",
    "\n",
    "Although this test can be applied to more groups and larger datasets, it does have a limit. Increasing the number of groups also increases the likelihood that insignificant changes will incorrectly be considered significant. \n",
    "\n",
    "Therefore, it's important to keep the number of unique values and groups relatively low. A good rule of thumb is to keep the number of unique values and groups lower than 20, which means the degrees of freedom (df in the output) is less than or equal to 19.\n",
    "\n",
    "Take some additional time to practice implementing contingency tables and chi-squared tests using categorical data from our previous datasets. Feel free to tweak the frequency values in the contingency tables tp see what happens to the chi-squared and p-value metrics."
   ]
  }
 ],
 "metadata": {
  "kernelspec": {
   "display_name": "PythonData",
   "language": "python",
   "name": "pythondata"
  },
  "language_info": {
   "codemirror_mode": {
    "name": "ipython",
    "version": 3
   },
   "file_extension": ".py",
   "mimetype": "text/x-python",
   "name": "python",
   "nbconvert_exporter": "python",
   "pygments_lexer": "ipython3",
   "version": "3.7.7"
  }
 },
 "nbformat": 4,
 "nbformat_minor": 4
}
