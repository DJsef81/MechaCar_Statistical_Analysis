{
 "cells": [
  {
   "cell_type": "raw",
   "metadata": {},
   "source": [
    "15.1.1 Introduction to R\n",
    "\n",
    "R is a programming language that has a variety of uses in data science. R has solidified itself in academia and industry as one of the go-to programming languages for statistical modelling and hypothesis testing. In recent years, R developers have extended R's capabilities to generate machine learning algorithms and other advanced models to ensure that R can be used in every stage of data analytics.\n",
    "\n"
   ]
  },
  {
   "cell_type": "raw",
   "metadata": {},
   "source": [
    "Benefits of R\n",
    "\n",
    "R is a versatile and extensible programming language with many benefits. One of the benefits of using an interpreted programming language such as R (or Python) is that the analysis scripts are written in plaintext. The versions of plaintext files are easy to control using tools such as Git, which means that R analysis scripts (or RScripts) are highly reproducible and easy to share with peers and collaborators.\n",
    "\n",
    "Another benefit to using R is that the R programming language was specifically designed for data analysis. This means that the process of loading in a dataset, visualizing the data, and performing statistical tests is straightforward and easy to interpret. In fact, many of the statistical tests in Python have been directly ported from R due to how well they were implemented. In addition to the native statistical functions, there are many other useful data transformation and modelling libraries, such as the tidyverse package, that simplify the process of ETL and visualizations."
   ]
  },
  {
   "cell_type": "raw",
   "metadata": {},
   "source": [
    "Drawbacks of R\n",
    "\n",
    "Still, R is not perfect. The biggest drawback is its licensing. R and most of R's libraries are licensed as General Public License, version 2 (GPL 2). This means that if you program or model anything using R, GPL forces your application, program, or script to be open source.\n",
    "\n",
    "In many personal and academic uses, this is not a problem because you're either (a) not trying to monetize your program or (b) going to publish your analysis and findings. However, if you are working for a company with intellectual property, or proprietary data and programs, this can be an issue. Therefore, many companies use R for internal analysis and regulatory testing, but use Python for any application or script that contains proprietary information.\n",
    "\n",
    "Despite the licensing drawback, R is still a highly valuable programming language for data analysis and is used by data professionals at all levels across many fields."
   ]
  },
  {
   "cell_type": "raw",
   "metadata": {},
   "source": [
    "RStudio Integrated Development Environment\n",
    "\n",
    "Just as Jupyter Notebooks are an integrated development environment (IDE) used to help design and test Python scripts, RStudio is an IDE used to help design and test RScripts. RStudio provides users a graphical user interface (GUI) with multiple dynamic windows and perpetual access to their RScript and R console.\n",
    "\n",
    "Similar to Jupyter Notebooks, RStudio enables users to test their analysis scripts line by line while allowing users to view different environment variables and outputs. This means that for each line of code written and executed, users can verify the results and troubleshoot any problems quickly and easily."
   ]
  },
  {
   "cell_type": "raw",
   "metadata": {},
   "source": [
    "15.1.3 Install RStudio\n",
    "\n",
    "Navigate and Configure RStudio\n",
    "\n",
    "When you first open up RStudio, you'll notice four panes laid out within the application window. The top-left pane contains your source, or (any RScripts, tables, and files you open within RStudio). By default, RStudio will open an untitled RScript file in the pane for you, so you can start programming right away:"
   ]
  },
  {
   "cell_type": "raw",
   "metadata": {},
   "source": [
    "The bottom-left pane contains the R console. Similar to Python, R can either run an RScript as an executable script or R can run interactively. RStudio combines the best of both worlds where the source RScript (in the top-left pane) can be run all at once, or line by line. By including the R console within the application, we can interact with our environment in real time and test parts of our code before we write them in our scripts:\n",
    "\n"
   ]
  },
  {
   "cell_type": "raw",
   "metadata": {},
   "source": [
    "The top-right pane contains our environment objects, such as variables, functions, and data frames. As we execute commands in the R console, either using our source RScript or manually, any objects generated in the R environment will show up in the top-right pane. This environment pane helps us keep track of the shape, data type, and contents of each variable within our environment without having to print out our variables in the console. As we explore R in this module, the environment pane will prove even more useful for tracking what each line of code does to our data:\n",
    "\n"
   ]
  },
  {
   "cell_type": "raw",
   "metadata": {},
   "source": [
    "On the bottom right is the multi-tool pane, which contains tabs for a file explorer, R documentation help, installed package list, and a plot viewing tool. Later, we'll refer to the Plots tab for exploring our generated plots. Additionally, you can use the Files tab to open RScripts from your computer or to copy file paths to include within your RScripts. Finally, to learn more about a function or object from a library in R, simply type ?<name of function or object> in the R console to open the documentation in the Help tab of the multi-tool pane:"
   ]
  },
  {
   "cell_type": "raw",
   "metadata": {},
   "source": [
    "R Studio Panes\n",
    "\n",
    "Top Left: Source Pane\n",
    "Bottom Left: R Console Pane\n",
    "Top Right: Environment Pane\n",
    "Bottom Right: Multi-Tool Pane"
   ]
  },
  {
   "cell_type": "raw",
   "metadata": {},
   "source": [
    "Now that we understand RStudio's layout, we'll install our required libraries to use them in our RScripts for this module. Thankfully, R developers have built robust library collections, such as the tidyverse (Links to an external site.), that simplify the installation process for the most common data analysis packages in R. To install packages in our R environment, use the install.packages() function. Therefore, to install the tidyverse in our R environment, simply run the following command in the R console:\n",
    "\n",
    "> install.packages(\"tidyverse\")"
   ]
  },
  {
   "cell_type": "raw",
   "metadata": {},
   "source": [
    "We'll need the jsonlite library for this module. To install our other required libraries and packages, run the following in the R console:\n",
    "\n",
    "> install.packages(\"jsonlite\")"
   ]
  },
  {
   "cell_type": "raw",
   "metadata": {},
   "source": [
    "When installing packages in R, be sure to wrap the package name in quotation marks, otherwise R will throw an error.\n",
    "\n",
    "Lastly, before we start learning how to program in R, we need to create a working directory folder structure on our computers. This will allow us to keep all of our RScripts and analysis results in a neat, organized structure and to simplify the process of reading in any external files into our R environment. Follow these steps to create a working directory in R:\n",
    "\n"
   ]
  },
  {
   "cell_type": "raw",
   "metadata": {},
   "source": [
    "1. Make a folder on your computer called \"R_Analysis,\" or whatever would help identify your R analysis and scripts folder.\n",
    "\n",
    "2. In the R menu screen, go to Session, click Set Working Directory, then select Choose Directory:\n",
    "\n",
    "3. Navigate to the folder on your computer and select Open. If you click on the Files tab in your bottom-right multi-tool pane, notice that the folder now represents your active working directory:.\n",
    "\n",
    "4. Now create a new folder in your active directory using the \"New Folder\" button. For the purposes of this first section of the module, let's name this new folder \"01_Demo.\" Once you have created the folder, press the refresh ( ) button to refresh the directory to see your new folder:\n",
    "\n",
    "5. Once you have created your new 01_Demo folder, use the file pane and click on the folder to navigate within it. Within the file pane, click on More and select the Set As Working Directory option to make your 01_Demo folder your new working directory:"
   ]
  },
  {
   "cell_type": "raw",
   "metadata": {},
   "source": [
    "To set a folder as your default working directory, go to Tools, Global Options, General, and specify the location of the folder.\n",
    "\n",
    "As you progress through the module generating RScripts and analyzing data using R, it's always a good idea to keep a clean working directory. Feel free to make subfolders within your R_Analysis folder, but be sure to always change your working directory so your output tables and figures do not get lost."
   ]
  }
 ],
 "metadata": {
  "kernelspec": {
   "display_name": "PythonData",
   "language": "python",
   "name": "pythondata"
  },
  "language_info": {
   "codemirror_mode": {
    "name": "ipython",
    "version": 3
   },
   "file_extension": ".py",
   "mimetype": "text/x-python",
   "name": "python",
   "nbconvert_exporter": "python",
   "pygments_lexer": "ipython3",
   "version": "3.7.7"
  }
 },
 "nbformat": 4,
 "nbformat_minor": 4
}
